{
 "cells": [
  {
   "cell_type": "code",
   "execution_count": 1,
   "id": "6552b809-7abe-43ee-b94d-85630b7da2f8",
   "metadata": {},
   "outputs": [
    {
     "name": "stdout",
     "output_type": "stream",
     "text": [
      "hello\n"
     ]
    }
   ],
   "source": [
    "print(\"hello\")"
   ]
  },
  {
   "cell_type": "code",
   "execution_count": 2,
   "id": "8d56e872-dcea-4ec1-80e5-0dd55b551f1b",
   "metadata": {},
   "outputs": [],
   "source": [
    "a = \"hello\""
   ]
  },
  {
   "cell_type": "code",
   "execution_count": 3,
   "id": "c2d4f2a5-0715-424f-85de-8b8d9c999e6b",
   "metadata": {},
   "outputs": [
    {
     "name": "stdout",
     "output_type": "stream",
     "text": [
      "hello\n"
     ]
    }
   ],
   "source": [
    "print(a)"
   ]
  },
  {
   "cell_type": "code",
   "execution_count": 4,
   "id": "d83dddfa-88bd-4b84-b233-61225fe4fc73",
   "metadata": {},
   "outputs": [],
   "source": [
    "name= 3"
   ]
  },
  {
   "cell_type": "code",
   "execution_count": 5,
   "id": "c3db1d80-eb1d-43a5-87d4-b45084051f51",
   "metadata": {},
   "outputs": [
    {
     "name": "stdout",
     "output_type": "stream",
     "text": [
      "3\n"
     ]
    }
   ],
   "source": [
    "print(name)\n",
    "\n"
   ]
  },
  {
   "cell_type": "code",
   "execution_count": 6,
   "id": "19724518-3f62-45a8-82be-3801e8e65967",
   "metadata": {},
   "outputs": [],
   "source": [
    "fathername = \"siva\"\n",
    "dob = \"11 07 06\"\n",
    "college = \"dscet\"\n",
    "address = \"chennai\"\n",
    "pdy = \"2027\""
   ]
  },
  {
   "cell_type": "code",
   "execution_count": 7,
   "id": "a418837d-8076-459b-9ab5-cef2e7ba2db0",
   "metadata": {},
   "outputs": [
    {
     "name": "stdout",
     "output_type": "stream",
     "text": [
      "siva 11 07 06 dscet chennai 2027\n"
     ]
    }
   ],
   "source": [
    "print(fathername, dob , college , address , pdy)\n",
    "\n"
   ]
  },
  {
   "cell_type": "code",
   "execution_count": 8,
   "id": "e3823650-44cc-4f43-8733-0503b7448ffc",
   "metadata": {},
   "outputs": [],
   "source": [
    "hero =\"thalapathii\"\n"
   ]
  },
  {
   "cell_type": "code",
   "execution_count": 9,
   "id": "ba1b4773-b220-437a-8397-4683a4c7b6c3",
   "metadata": {},
   "outputs": [
    {
     "name": "stdout",
     "output_type": "stream",
     "text": [
      "thalapathii\n"
     ]
    }
   ],
   "source": [
    "print(hero)"
   ]
  },
  {
   "cell_type": "code",
   "execution_count": 10,
   "id": "d6e8c86c-c3cb-47c5-9390-08ffeb3b5b7f",
   "metadata": {},
   "outputs": [],
   "source": [
    "hero =\"actor bhuvan\""
   ]
  },
  {
   "cell_type": "code",
   "execution_count": 11,
   "id": "9499bed4-8a89-41fb-8903-ab9bb560289c",
   "metadata": {},
   "outputs": [
    {
     "name": "stdout",
     "output_type": "stream",
     "text": [
      "actor bhuvan\n"
     ]
    }
   ],
   "source": [
    "print(hero)"
   ]
  },
  {
   "cell_type": "code",
   "execution_count": 12,
   "id": "0dc42558-97b1-4bc7-b2a1-52bc5e7bf18e",
   "metadata": {},
   "outputs": [],
   "source": [
    "sudala =\"mani\""
   ]
  },
  {
   "cell_type": "code",
   "execution_count": 13,
   "id": "59fae00e-ec9b-43ad-8c4a-f39e6569e00d",
   "metadata": {},
   "outputs": [
    {
     "name": "stdout",
     "output_type": "stream",
     "text": [
      "mani\n"
     ]
    }
   ],
   "source": [
    "print(sudala)"
   ]
  },
  {
   "cell_type": "code",
   "execution_count": 14,
   "id": "7e8d312d-b480-4029-b1b2-50e12340bce2",
   "metadata": {},
   "outputs": [],
   "source": [
    "a =10\n",
    "b =20\n"
   ]
  },
  {
   "cell_type": "code",
   "execution_count": 15,
   "id": "ee846823-d7cd-4cf0-a7ce-1a580b0caf6b",
   "metadata": {},
   "outputs": [
    {
     "name": "stdout",
     "output_type": "stream",
     "text": [
      "30\n"
     ]
    }
   ],
   "source": [
    "print(a+b)"
   ]
  },
  {
   "cell_type": "code",
   "execution_count": 16,
   "id": "ca94292d-90ea-4018-9350-705f6fbf11ca",
   "metadata": {},
   "outputs": [],
   "source": [
    "divername =\"seker\"\n",
    "droppoint =\"chromepet\"\n",
    "pickuppoint =\"tambaram\"\n",
    "time =11.00\n",
    "fair =2000\n",
    "distance =5\n",
    "status =\"conform\""
   ]
  },
  {
   "cell_type": "code",
   "execution_count": 17,
   "id": "4d9aab11-08c5-4a17-87dd-e668203a4c33",
   "metadata": {},
   "outputs": [
    {
     "name": "stdout",
     "output_type": "stream",
     "text": [
      "seker chromepet tambaram 11.0 2000 5 conform\n"
     ]
    }
   ],
   "source": [
    "print(divername, droppoint, pickuppoint, time,fair,distance,status)"
   ]
  },
  {
   "cell_type": "code",
   "execution_count": 18,
   "id": "b937375b-d006-4d40-9f8d-bf9c593e9397",
   "metadata": {},
   "outputs": [
    {
     "name": "stdout",
     "output_type": "stream",
     "text": [
      "20\n"
     ]
    }
   ],
   "source": [
    "a=10 \n",
    "b=10\n",
    "print(a+b)"
   ]
  },
  {
   "cell_type": "code",
   "execution_count": 19,
   "id": "f0514ea8-ea51-4ce9-b4b0-9f3ee60bd982",
   "metadata": {},
   "outputs": [
    {
     "name": "stdout",
     "output_type": "stream",
     "text": [
      "0\n"
     ]
    }
   ],
   "source": [
    "print(a-b)"
   ]
  },
  {
   "cell_type": "code",
   "execution_count": 14,
   "id": "31c59d5a-bdbc-434b-9c31-0ae9e0a75ca2",
   "metadata": {},
   "outputs": [
    {
     "name": "stdout",
     "output_type": "stream",
     "text": [
      "100\n"
     ]
    }
   ],
   "source": [
    "print(a*b)"
   ]
  },
  {
   "cell_type": "code",
   "execution_count": 15,
   "id": "5be408b7-1d3a-48a8-982e-27cb5918313c",
   "metadata": {},
   "outputs": [
    {
     "name": "stdout",
     "output_type": "stream",
     "text": [
      "1.0\n"
     ]
    }
   ],
   "source": [
    "print(a/b)"
   ]
  },
  {
   "cell_type": "code",
   "execution_count": 16,
   "id": "fea5d24b-6752-4126-8637-f3a32f9a7745",
   "metadata": {},
   "outputs": [
    {
     "name": "stdout",
     "output_type": "stream",
     "text": [
      "0\n"
     ]
    }
   ],
   "source": [
    "# Modulos remainder\n",
    "print(a%b)"
   ]
  },
  {
   "cell_type": "code",
   "execution_count": 17,
   "id": "6b89f722-673a-408d-8cff-fab245ec9293",
   "metadata": {},
   "outputs": [
    {
     "name": "stdout",
     "output_type": "stream",
     "text": [
      "1\n"
     ]
    }
   ],
   "source": [
    "# Floor Division\n",
    "print(a//b)"
   ]
  },
  {
   "cell_type": "code",
   "execution_count": 18,
   "id": "bbf5df78-9025-4bba-b819-d9548894062f",
   "metadata": {},
   "outputs": [
    {
     "name": "stdout",
     "output_type": "stream",
     "text": [
      "10000000000\n"
     ]
    }
   ],
   "source": [
    "# Exponentional\n",
    "print(a**b)"
   ]
  },
  {
   "cell_type": "code",
   "execution_count": 19,
   "id": "f166d768-a1bb-4486-b9a5-934b97125bf2",
   "metadata": {},
   "outputs": [
    {
     "name": "stdout",
     "output_type": "stream",
     "text": [
      "True\n"
     ]
    }
   ],
   "source": [
    "# RELATIONALSHIP OPERATORS\n",
    "#Equalto equalto\n",
    "print (a==b)"
   ]
  },
  {
   "cell_type": "code",
   "execution_count": 20,
   "id": "56c8c234-dfb4-4030-b500-2aaa8f691521",
   "metadata": {},
   "outputs": [
    {
     "name": "stdout",
     "output_type": "stream",
     "text": [
      "False\n"
     ]
    }
   ],
   "source": [
    "#Greater than\n",
    "print (a>b)"
   ]
  },
  {
   "cell_type": "code",
   "execution_count": 21,
   "id": "ffeb2402-95c8-4b14-b580-3f665abd2ccc",
   "metadata": {},
   "outputs": [
    {
     "name": "stdout",
     "output_type": "stream",
     "text": [
      "False\n"
     ]
    }
   ],
   "source": [
    "#Less than\n",
    "print (a<b)"
   ]
  },
  {
   "cell_type": "code",
   "execution_count": 22,
   "id": "c518ce5b-e91e-4642-9753-68c59721779b",
   "metadata": {},
   "outputs": [
    {
     "name": "stdout",
     "output_type": "stream",
     "text": [
      "True\n"
     ]
    }
   ],
   "source": [
    "#Greater than or equalto\n",
    "print (a>=b)"
   ]
  },
  {
   "cell_type": "code",
   "execution_count": 23,
   "id": "c8e51a96-042e-4ad3-aabb-b98f12612bd1",
   "metadata": {},
   "outputs": [
    {
     "name": "stdout",
     "output_type": "stream",
     "text": [
      "False\n"
     ]
    }
   ],
   "source": [
    "#Not equalto\n",
    "print (a!=b)"
   ]
  },
  {
   "cell_type": "code",
   "execution_count": 24,
   "id": "b05cfe9f-e40f-449b-a31b-f56505b28b60",
   "metadata": {},
   "outputs": [
    {
     "name": "stdout",
     "output_type": "stream",
     "text": [
      "True\n"
     ]
    }
   ],
   "source": [
    "#Less than or equalto\n",
    "print (a<=b)"
   ]
  },
  {
   "cell_type": "code",
   "execution_count": 25,
   "id": "962c7dc0-d83c-4f07-995c-0f4e4f681895",
   "metadata": {},
   "outputs": [],
   "source": [
    "#LOGICAL OPERATORS\n",
    " #AND,OR,NOT"
   ]
  },
  {
   "cell_type": "code",
   "execution_count": 23,
   "id": "bd43ec7c-ed40-4b82-b48b-7180f72e0a5d",
   "metadata": {},
   "outputs": [
    {
     "name": "stdout",
     "output_type": "stream",
     "text": [
      "You're pass\n"
     ]
    }
   ],
   "source": [
    "#Conditional Statements\n",
    "#if,elseif\n",
    "marks = 57\n",
    "if (marks>=50):\n",
    "    print (\"You're pass\")\n",
    "else:\n",
    "    print (\"You're fail\")"
   ]
  },
  {
   "cell_type": "code",
   "execution_count": 24,
   "id": "1d5e44c1-6fb1-46e8-a5e4-100f86cc1dcd",
   "metadata": {},
   "outputs": [
    {
     "name": "stdout",
     "output_type": "stream",
     "text": [
      "You're Elegibale for voting\n"
     ]
    }
   ],
   "source": [
    "age = 46\n",
    "if (age>=18):\n",
    "    print (\"You're Elegibale for voting\")\n",
    "else:\n",
    "    print (\"You are'nt Elegiable for voting\")"
   ]
  },
  {
   "cell_type": "code",
   "execution_count": 4,
   "id": "e16ca1ca-7fa4-461b-ad24-55274834e423",
   "metadata": {},
   "outputs": [
    {
     "name": "stdout",
     "output_type": "stream",
     "text": [
      "You can get in\n"
     ]
    }
   ],
   "source": [
    "people = 45000\n",
    "if (people<=45000):\n",
    "    print (\"You can get in\")\n",
    "else:\n",
    "    print (\"You can't get in\")"
   ]
  },
  {
   "cell_type": "code",
   "execution_count": null,
   "id": "44918bbf-96e8-48eb-aeea-297f484dae51",
   "metadata": {},
   "outputs": [],
   "source": [
    "std = int(input(\"Enter your class: \"))\n",
    "if(std>=1 and std<=3):\n",
    "    print(\"Go to the A block\")\n",
    "elif(std>=4 and std<=6):\n",
    "    print(\"Go to the B block\")\n",
    "elif(std>=7 and std<=9):\n",
    "    print (\"Go to te C block\")\n",
    "elif(std>=10 and std<=11):\n",
    "    print (\"Go to the D block\")\n",
    "elif(std==12):\n",
    "    print(\"Go to the E block\")\n",
    "    \n",
    "\n"
   ]
  },
  {
   "cell_type": "code",
   "execution_count": 31,
   "id": "62fddc5c-6750-4d4d-9b3f-b0150dc0bb34",
   "metadata": {},
   "outputs": [
    {
     "name": "stdin",
     "output_type": "stream",
     "text": [
      "Enter your seat no:  90\n"
     ]
    },
    {
     "name": "stdout",
     "output_type": "stream",
     "text": [
      "Your seat is in stand Z\n"
     ]
    }
   ],
   "source": [
    "Stadium_seatings = int(input(\"Enter your seat no: \"))\n",
    "if(Stadium_seatings>=1 and Stadium_seatings<=30):\n",
    "    print(\"Your seat is in stand X\")\n",
    "elif(Stadium_seatings>=31 and Stadium_seatings<=60):\n",
    "    print(\"Your seat is in stand Y\")\n",
    "elif(Stadium_seatings>=61 and Stadium_seatings<=90):\n",
    "    print(\"Your seat is in stand Z\")\n",
    "elif(Stadium_seatings>=91 and Stadium_seatings==100):\n",
    "    print(\"Your seat is in stand S\")\n",
    "else:\n",
    "    print(\"Kindly enter the vaild seat nunmber to get your seatings\")\n",
    "    \n",
    "    "
   ]
  },
  {
   "cell_type": "code",
   "execution_count": 33,
   "id": "1f30a16a-4def-4208-9692-c917e9a77377",
   "metadata": {},
   "outputs": [
    {
     "name": "stdin",
     "output_type": "stream",
     "text": [
      "ENTER THE NUMBER: 0\n"
     ]
    },
    {
     "name": "stdout",
     "output_type": "stream",
     "text": [
      "is negative\n"
     ]
    }
   ],
   "source": [
    "number=int(input(\"ENTER THE NUMBER:\"))\n",
    "if(number>=1):\n",
    "    print(\"> is positive\")\n",
    "elif(number<=0):\n",
    "    print(\"is negative\")"
   ]
  },
  {
   "cell_type": "code",
   "execution_count": 34,
   "id": "4d6cd192-201e-4067-8d2d-ed2306de32da",
   "metadata": {},
   "outputs": [
    {
     "name": "stdin",
     "output_type": "stream",
     "text": [
      "ENTER THE NUMBER: 11\n"
     ]
    },
    {
     "name": "stdout",
     "output_type": "stream",
     "text": [
      "IT IS ODD\n"
     ]
    }
   ],
   "source": [
    "number=int(input(\"ENTER THE NUMBER:\"))\n",
    "if(number%2==0):\n",
    "    print(\"IT IS EVEN\")\n",
    "else:\n",
    "    print(\"IT IS ODD\")"
   ]
  },
  {
   "cell_type": "code",
   "execution_count": 3,
   "id": "114cb538-0279-421b-8708-73d0a7586260",
   "metadata": {},
   "outputs": [
    {
     "ename": "SyntaxError",
     "evalue": "'(' was never closed (2322957698.py, line 2)",
     "output_type": "error",
     "traceback": [
      "\u001b[1;36m  Cell \u001b[1;32mIn[3], line 2\u001b[1;36m\u001b[0m\n\u001b[1;33m    if(vowel=\u001b[0m\n\u001b[1;37m      ^\u001b[0m\n\u001b[1;31mSyntaxError\u001b[0m\u001b[1;31m:\u001b[0m '(' was never closed\n"
     ]
    }
   ],
   "source": [
    "alpha=int(input(\"ENTER THE ALPHABET:\"))\n",
    "if(vowel\n",
    "    print(\"IT IS VOWEL\")\n",
    "else:\n",
    "    print(\"IT IS CONSONANT\")"
   ]
  },
  {
   "cell_type": "code",
   "execution_count": null,
   "id": "9e43595b-1a02-4307-9114-3f0a975df600",
   "metadata": {},
   "outputs": [],
   "source": [
    "a=int(input(\"enter A value:\"))\n",
    "b=int(input(\"enter B value:\"))\n",
    "if(a>b):\n",
    "    print(\" 'a' is the largest number\")\n",
    "\n",
    "else:\n",
    "    print(\"'b' is the largest number\")"
   ]
  },
  {
   "cell_type": "raw",
   "id": "8afaf6c5-fb15-490c-81d2-41d3912d1af2",
   "metadata": {},
   "source": [
    "percentage=int(input(\"enter your percentage:\"))\n",
    "if(percentage>=95 and percentage<=100):\n",
    "    print(\"your grade is A\")\n",
    "elif(percentage>=85 and percentage<=94):\n",
    "    print(\"your grade is B\")\n",
    "elif(percentage>=75 and percentage<=84):\n",
    "    print(\"your grade is C\")\n",
    "elif(percentage>=50 and percentage<=74):\n",
    "    print(\"your grade is D\")\n",
    "elif(percentage>=0 and percentage<=49):\n",
    "    print(\"your grade is F\")"
   ]
  },
  {
   "cell_type": "code",
   "execution_count": 18,
   "id": "4513dbf1-57b1-458d-90a2-4ec6970668db",
   "metadata": {},
   "outputs": [
    {
     "name": "stdin",
     "output_type": "stream",
     "text": [
      "enter your number: 9\n",
      "enter your number: 9\n",
      "enter the operator (+,-,*,/,%,//,**): +\n"
     ]
    },
    {
     "name": "stdout",
     "output_type": "stream",
     "text": [
      "addtional value of a and b: 18\n"
     ]
    }
   ],
   "source": [
    "num_1=int(input(\"enter your number:\"))\n",
    "num_2=int(input(\"enter your number:\"))\n",
    "op = input(\"enter the operator (+,-,*,/,%,//,**):\")\n",
    "\n",
    "if( op == '+'):\n",
    "    print(\"addtional value of a and b:\",num_1 + num_2)\n",
    "elif( op == '-'):\n",
    "    print(\"subraction value of a and b:\",num_1 - num_2)\n",
    "elif( op =='*'):\n",
    "    print(\"multiplication value of a and b:\",num_1 * num_2)\n",
    "elif( op =='/'):\n",
    "    print(\"division value of a and b:\",num_1 / num_2)\n",
    "elif( op =='%'):\n",
    "    print(\"modules value of a and b :\",num_1 % num_2)\n",
    "elif( op == '//'):\n",
    "    print(\"over flow value of a and b :\",num_1 // num_2)\n",
    "elif( op == '**'):\n",
    "    print(\"flour division value of a and b :\",num_1 ** num_2)\n",
    "\n"
   ]
  },
  {
   "cell_type": "code",
   "execution_count": null,
   "id": "ac54e726-49ba-4f06-b383-96fc2134387e",
   "metadata": {},
   "outputs": [],
   "source": [
    "previous_loan=input(\"enter yes and no\")\n",
    "\n",
    "if(previous_loan == 'yes'):\n",
    "\n",
    "    .\n",
    "    if(amount>=200000):\n",
    "        \n"
   ]
  },
  {
   "cell_type": "code",
   "execution_count": null,
   "id": "d8accf47-1b49-476b-895a-3ee30cbe5c3e",
   "metadata": {},
   "outputs": [],
   "source": [
    "#Loops\n",
    " Forloop\n",
    " Whileloop"
   ]
  },
  {
   "cell_type": "code",
   "execution_count": null,
   "id": "51a51a20-7b13-4524-a6e1-95a54919ee17",
   "metadata": {},
   "outputs": [],
   "source": [
    "for i in range(1,11):\n",
    "    if(i%2==0):\n",
    "        print(f\"{i} is the even number\")\n",
    "    else:\n",
    "        print(f\"{i} is the odd number\")\n",
    "    \n",
    "        "
   ]
  },
  {
   "cell_type": "code",
   "execution_count": null,
   "id": "6db93323-2546-4cc0-80fe-dc43e0a55bb0",
   "metadata": {},
   "outputs": [],
   "source": [
    "fruits = [\"apple\", \"banana\", \"cherry\"]\n",
    "for i in fruits:\n",
    "  if i ==  \"cherry\"\n",
    "\n",
    "  print(i)\n",
    "  "
   ]
  },
  {
   "cell_type": "code",
   "execution_count": null,
   "id": "5792427b-7b0e-414e-971d-538f654180b6",
   "metadata": {},
   "outputs": [],
   "source": [
    "total = 0\n",
    "for i in range (1,6):\n",
    "   total += i\n",
    "print (\"Sum:\" , total)   \n",
    "    \n",
    "    "
   ]
  },
  {
   "cell_type": "code",
   "execution_count": 42,
   "id": "bdea3587-7930-4777-80e1-4bdb4b112d77",
   "metadata": {},
   "outputs": [
    {
     "name": "stdout",
     "output_type": "stream",
     "text": [
      "                   *\n",
      "                  ***\n",
      "                 *****\n",
      "                *******\n",
      "               *********\n",
      "              ***********\n",
      "             *************\n",
      "            ***************\n",
      "           *****************\n",
      "          *******************\n",
      "         *********************\n",
      "        ***********************\n",
      "       *************************\n",
      "      ***************************\n",
      "     *****************************\n",
      "    *******************************\n",
      "   *********************************\n",
      "  ***********************************\n",
      " *************************************\n",
      "***************************************\n"
     ]
    }
   ],
   "source": [
    "for i in range(1,21):\n",
    "    spaces = 20-i\n",
    "    stars = 2 * i - 1\n",
    "    print (\" \" * spaces + \"*\" * stars)"
   ]
  },
  {
   "cell_type": "code",
   "execution_count": 6,
   "id": "2b65ba55-3f20-475a-a58c-4196ab8b9f98",
   "metadata": {},
   "outputs": [
    {
     "name": "stdout",
     "output_type": "stream",
     "text": [
      " 1 is squared is 1 \n",
      " 2 is squared is 4 \n",
      " 3 is squared is 9 \n",
      " 4 is squared is 16 \n",
      " 5 is squared is 25 \n",
      " 6 is squared is 36 \n",
      " 7 is squared is 49 \n",
      " 8 is squared is 64 \n",
      " 9 is squared is 81 \n",
      " 10 is squared is 100 \n"
     ]
    }
   ],
   "source": [
    "for i in range(1,11):\n",
    "    print(f\" {i} is squared is {i **2} \" ) "
   ]
  },
  {
   "cell_type": "code",
   "execution_count": null,
   "id": "e5a029a8-4a35-4fa8-9759-1bac465e29d8",
   "metadata": {},
   "outputs": [],
   "source": [
    "even = 0\n",
    "odd = 0\n",
    "\n",
    "even_lst = []\n",
    "odd_lst = []\n",
    "\n",
    "for i in range(1,11):\n",
    "    if(i%2==0):\n",
    "        even = even + 1\n",
    "        even_lst.append(i)\n",
    "    else:\n",
    "        odd = odd + 1\n",
    "        odd_lst.append(i)\n",
    "print(f\"{even} this number are the even numbers\")\n",
    "print(f\"{odd} this number are the odd numbers\")\n",
    "print(even_lst)\n",
    "print(odd_lst)\n",
    "\n",
    "\n",
    "        \n"
   ]
  },
  {
   "cell_type": "code",
   "execution_count": 1,
   "id": "afe218e9-e8fa-433b-a402-303f156f9bc8",
   "metadata": {},
   "outputs": [
    {
     "name": "stdin",
     "output_type": "stream",
     "text": [
      "enter number betwenn 1 to 20: 11\n"
     ]
    },
    {
     "name": "stdout",
     "output_type": "stream",
     "text": [
      "its low value, try again\n"
     ]
    },
    {
     "name": "stdin",
     "output_type": "stream",
     "text": [
      "enter number betwenn 1 to 20: 12\n"
     ]
    },
    {
     "name": "stdout",
     "output_type": "stream",
     "text": [
      "congratulation\n"
     ]
    }
   ],
   "source": [
    "for i in range(1,20):\n",
    "    i=int(input(\"enter number betwenn 1 to 20:\"))\n",
    "    if(i<12):\n",
    "        print(\"its low value, try again\")\n",
    "    elif(i>12):\n",
    "        print(\"its high value, try again\")\n",
    "    elif(i==12):\n",
    "        print(\"congratulation\")\n",
    "        break"
   ]
  },
  {
   "cell_type": "markdown",
   "id": "88785703-dcec-4aa7-9769-c9ba04e5cd7c",
   "metadata": {},
   "source": [
    "## Guessing the Number - Problem solving\n"
   ]
  },
  {
   "cell_type": "code",
   "execution_count": null,
   "id": "ce3b9932-9595-4ef3-806d-279064746762",
   "metadata": {},
   "outputs": [],
   "source": [
    "### import random\n",
    "start = int(input(\"Enter the Starting number:\"))\n",
    "end = int(input(\"Enter the ending number:\"))\n",
    "secret_number = random.randint(start,end)\n",
    "while True:\n",
    "    Guess_number = int(input(\"Enter your Guessing number:\"))\n",
    "    if(Guess_number<secret_number):\n",
    "        print(f\"Your Guess number {Guess_number} is too low,Try Again!\")\n",
    "    elif(Guess_number>secret_number):\n",
    "        print(f\"Your Guess number {Guess_number} is too High,Retry!\")\n",
    "    elif(Guess_number == secret_number):\n",
    "        print(f\"Congartulations!! You have found the Secret number {Guess_number}\")\n",
    "        break"
   ]
  },
  {
   "cell_type": "code",
   "execution_count": 5,
   "id": "8b7899c5-ac80-472c-95d7-5a4cf267941a",
   "metadata": {},
   "outputs": [
    {
     "name": "stdin",
     "output_type": "stream",
     "text": [
      "enter your first number: 7\n",
      "enter your last number: 11\n"
     ]
    },
    {
     "ename": "NameError",
     "evalue": "name 'random' is not defined",
     "output_type": "error",
     "traceback": [
      "\u001b[1;31m---------------------------------------------------------------------------\u001b[0m",
      "\u001b[1;31mNameError\u001b[0m                                 Traceback (most recent call last)",
      "Cell \u001b[1;32mIn[5], line 4\u001b[0m\n\u001b[0;32m      2\u001b[0m first \u001b[38;5;241m=\u001b[39m \u001b[38;5;28mint\u001b[39m(\u001b[38;5;28minput\u001b[39m(\u001b[38;5;124m\"\u001b[39m\u001b[38;5;124menter your first number:\u001b[39m\u001b[38;5;124m\"\u001b[39m))\n\u001b[0;32m      3\u001b[0m last \u001b[38;5;241m=\u001b[39m \u001b[38;5;28mint\u001b[39m(\u001b[38;5;28minput\u001b[39m(\u001b[38;5;124m\"\u001b[39m\u001b[38;5;124menter your last number:\u001b[39m\u001b[38;5;124m\"\u001b[39m))\n\u001b[1;32m----> 4\u001b[0m hide_number \u001b[38;5;241m=\u001b[39m random\u001b[38;5;241m.\u001b[39mrandint(first,last)\n\u001b[0;32m      5\u001b[0m \u001b[38;5;28;01mwhile\u001b[39;00m \u001b[38;5;28;01mTrue\u001b[39;00m:\n\u001b[0;32m      6\u001b[0m     Guess_number \u001b[38;5;241m=\u001b[39m \u001b[38;5;28mint\u001b[39m(\u001b[38;5;28minput\u001b[39m(\u001b[38;5;124m\"\u001b[39m\u001b[38;5;124menter your Guessing number:\u001b[39m\u001b[38;5;124m\"\u001b[39m))\n",
      "\u001b[1;31mNameError\u001b[0m: name 'random' is not defined"
     ]
    }
   ],
   "source": [
    "### import random\n",
    "first = int(input(\"enter your first number:\"))\n",
    "last = int(input(\"enter your last number:\"))\n",
    "hide_number = random.randint(first,last)\n",
    "while True:\n",
    "    Guess_number = int(input(\"enter your Guessing number:\"))\n",
    "    if(Guess_number<hide_number):\n",
    "        print(f\"your Guess number {hide_number} its very low,reagain!\")\n",
    "    elif(Guess_number>hide_number):\n",
    "        print(f\"your Guess numbeer {hide_number} its very high,reagain!\")\n",
    "    elif(Guess_number == hide_number):\n",
    "        print(f\"congartulation!! you have found the hide number {Guess_number}\")\n",
    "                            \n",
    "    "
   ]
  },
  {
   "cell_type": "code",
   "execution_count": null,
   "id": "80b839b3-eeee-48a1-aaaa-c01754996f6e",
   "metadata": {},
   "outputs": [],
   "source": []
  }
 ],
 "metadata": {
  "kernelspec": {
   "display_name": "Python [conda env:base] *",
   "language": "python",
   "name": "conda-base-py"
  },
  "language_info": {
   "codemirror_mode": {
    "name": "ipython",
    "version": 3
   },
   "file_extension": ".py",
   "mimetype": "text/x-python",
   "name": "python",
   "nbconvert_exporter": "python",
   "pygments_lexer": "ipython3",
   "version": "3.13.5"
  }
 },
 "nbformat": 4,
 "nbformat_minor": 5
}
